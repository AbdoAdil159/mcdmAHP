{
 "cells": [
  {
   "cell_type": "markdown",
   "metadata": {},
   "source": [
    "## MCDM using AHP"
   ]
  },
  {
   "cell_type": "code",
   "execution_count": 3,
   "metadata": {},
   "outputs": [],
   "source": [
    "# import important libraries\n",
    "\n",
    "import numpy as np\n",
    "import pandas as pd"
   ]
  },
  {
   "attachments": {
    "image.png": {
     "image/png": "[encoded data removed]"
    }
   },
   "cell_type": "markdown",
   "metadata": {},
   "source": [
    "The file should be in a csv format and arranged like this:\n",
    "\n",
    "\n",
    "![image.png](attachment:image.png)"
   ]
  },
  {
   "cell_type": "code",
   "execution_count": 4,
   "metadata": {},
   "outputs": [
    {
     "data": {
      "text/html": [
       "<div>\n",
       "<style scoped>\n",
       "    .dataframe tbody tr th:only-of-type {\n",
       "        vertical-align: middle;\n",
       "    }\n",
       "\n",
       "    .dataframe tbody tr th {\n",
       "        vertical-align: top;\n",
       "    }\n",
       "\n",
       "    .dataframe thead th {\n",
       "        text-align: right;\n",
       "    }\n",
       "</style>\n",
       "<table border=\"1\" class=\"dataframe\">\n",
       "  <thead>\n",
       "    <tr style=\"text-align: right;\">\n",
       "      <th></th>\n",
       "      <th>Price</th>\n",
       "      <th>Storage</th>\n",
       "      <th>Camera</th>\n",
       "      <th>Looks</th>\n",
       "    </tr>\n",
       "  </thead>\n",
       "  <tbody>\n",
       "    <tr>\n",
       "      <th>0</th>\n",
       "      <td>250</td>\n",
       "      <td>16</td>\n",
       "      <td>12</td>\n",
       "      <td>5</td>\n",
       "    </tr>\n",
       "    <tr>\n",
       "      <th>1</th>\n",
       "      <td>200</td>\n",
       "      <td>16</td>\n",
       "      <td>8</td>\n",
       "      <td>3</td>\n",
       "    </tr>\n",
       "    <tr>\n",
       "      <th>2</th>\n",
       "      <td>300</td>\n",
       "      <td>32</td>\n",
       "      <td>16</td>\n",
       "      <td>4</td>\n",
       "    </tr>\n",
       "    <tr>\n",
       "      <th>3</th>\n",
       "      <td>275</td>\n",
       "      <td>32</td>\n",
       "      <td>8</td>\n",
       "      <td>4</td>\n",
       "    </tr>\n",
       "    <tr>\n",
       "      <th>4</th>\n",
       "      <td>225</td>\n",
       "      <td>16</td>\n",
       "      <td>16</td>\n",
       "      <td>2</td>\n",
       "    </tr>\n",
       "  </tbody>\n",
       "</table>\n",
       "</div>"
      ],
      "text/plain": [
       "   Price  Storage  Camera   Looks\n",
       "0    250       16       12      5\n",
       "1    200       16        8      3\n",
       "2    300       32       16      4\n",
       "3    275       32        8      4\n",
       "4    225       16       16      2"
      ]
     },
     "execution_count": 4,
     "metadata": {},
     "output_type": "execute_result"
    }
   ],
   "source": [
    "df = pd.read_csv('options.csv')\n",
    "df = df.drop(df.columns[0], axis=1)\n",
    "df"
   ]
  },
  {
   "cell_type": "markdown",
   "metadata": {},
   "source": [
    "Pair wise matrix"
   ]
  },
  {
   "cell_type": "code",
   "execution_count": 6,
   "metadata": {},
   "outputs": [
    {
     "name": "stderr",
     "output_type": "stream",
     "text": [
      "C:\\Users\\Abdallah\\AppData\\Local\\Temp\\ipykernel_2904\\3368509043.py:14: FutureWarning: Setting an item of incompatible dtype is deprecated and will raise an error in a future version of pandas. Value '0.2' has dtype incompatible with int64, please explicitly cast to a compatible dtype first.\n",
      "  pair_mat.iat[y, x] = 1/z\n",
      "C:\\Users\\Abdallah\\AppData\\Local\\Temp\\ipykernel_2904\\3368509043.py:13: FutureWarning: Setting an item of incompatible dtype is deprecated and will raise an error in a future version of pandas. Value '0.5' has dtype incompatible with int64, please explicitly cast to a compatible dtype first.\n",
      "  pair_mat.iat[x, y] = z\n",
      "C:\\Users\\Abdallah\\AppData\\Local\\Temp\\ipykernel_2904\\3368509043.py:14: FutureWarning: Setting an item of incompatible dtype is deprecated and will raise an error in a future version of pandas. Value '0.3333333333333333' has dtype incompatible with int64, please explicitly cast to a compatible dtype first.\n",
      "  pair_mat.iat[y, x] = 1/z\n"
     ]
    },
    {
     "data": {
      "text/html": [
       "<div>\n",
       "<style scoped>\n",
       "    .dataframe tbody tr th:only-of-type {\n",
       "        vertical-align: middle;\n",
       "    }\n",
       "\n",
       "    .dataframe tbody tr th {\n",
       "        vertical-align: top;\n",
       "    }\n",
       "\n",
       "    .dataframe thead th {\n",
       "        text-align: right;\n",
       "    }\n",
       "</style>\n",
       "<table border=\"1\" class=\"dataframe\">\n",
       "  <thead>\n",
       "    <tr style=\"text-align: right;\">\n",
       "      <th></th>\n",
       "      <th>Price</th>\n",
       "      <th>Storage</th>\n",
       "      <th>Camera</th>\n",
       "      <th>Looks</th>\n",
       "    </tr>\n",
       "  </thead>\n",
       "  <tbody>\n",
       "    <tr>\n",
       "      <th>0</th>\n",
       "      <td>1.000000</td>\n",
       "      <td>5.000000</td>\n",
       "      <td>4.000000</td>\n",
       "      <td>7</td>\n",
       "    </tr>\n",
       "    <tr>\n",
       "      <th>1</th>\n",
       "      <td>0.200000</td>\n",
       "      <td>1.000000</td>\n",
       "      <td>0.500000</td>\n",
       "      <td>3</td>\n",
       "    </tr>\n",
       "    <tr>\n",
       "      <th>2</th>\n",
       "      <td>0.250000</td>\n",
       "      <td>2.000000</td>\n",
       "      <td>1.000000</td>\n",
       "      <td>3</td>\n",
       "    </tr>\n",
       "    <tr>\n",
       "      <th>3</th>\n",
       "      <td>0.142857</td>\n",
       "      <td>0.333333</td>\n",
       "      <td>0.333333</td>\n",
       "      <td>1</td>\n",
       "    </tr>\n",
       "  </tbody>\n",
       "</table>\n",
       "</div>"
      ],
      "text/plain": [
       "      Price   Storage   Camera   Looks\n",
       "0  1.000000  5.000000  4.000000      7\n",
       "1  0.200000  1.000000  0.500000      3\n",
       "2  0.250000  2.000000  1.000000      3\n",
       "3  0.142857  0.333333  0.333333      1"
      ]
     },
     "execution_count": 6,
     "metadata": {},
     "output_type": "execute_result"
    }
   ],
   "source": [
    "# Pair wise matrix \n",
    "col_names = df.columns\n",
    "pair_mat = pd.DataFrame(0, index=np.arange(len(df.columns)), columns=df.columns)\n",
    "x = 0 \n",
    "y = 0\n",
    "for i in col_names:\n",
    "    for j in col_names:\n",
    "        if i == j:\n",
    "            pair_mat.iat[x, y] = 1 \n",
    "        else:\n",
    "            if pair_mat.iat[x, y] == 0 :\n",
    "                z = float(input(f'How important is {i} with respect to {j} ?'))\n",
    "                pair_mat.iat[x, y] = z\n",
    "                pair_mat.iat[y, x] = 1/z\n",
    "        if y != (len(df.columns)-1): \n",
    "            y+=1\n",
    "        else: \n",
    "            y = 0\n",
    "    x+=1\n",
    "\n",
    "pair_mat\n"
   ]
  },
  {
   "cell_type": "markdown",
   "metadata": {},
   "source": [
    "Normalizing the pair wise matrix and calculating the criteria"
   ]
  },
  {
   "cell_type": "code",
   "execution_count": 36,
   "metadata": {},
   "outputs": [
    {
     "name": "stdout",
     "output_type": "stream",
     "text": [
      " The criteria weights are : [0.60337924 0.13639013 0.19566624 0.06456438]\n"
     ]
    }
   ],
   "source": [
    "pair_mat_arr = pair_mat.to_numpy()\n",
    "norm_pair_mat = pair_mat_arr / np.sum(pair_mat_arr, axis=0)\n",
    "criteria = np.sum(norm_pair_mat, axis=1) / norm_pair_mat.shape[0]\n",
    "print(f' The criteria weights are : {criteria}')"
   ]
  },
  {
   "cell_type": "markdown",
   "metadata": {},
   "source": [
    "Consistency check"
   ]
  },
  {
   "cell_type": "code",
   "execution_count": 37,
   "metadata": {},
   "outputs": [
    {
     "name": "stdout",
     "output_type": "stream",
     "text": [
      "lambda_max is 4.100742229245654\n",
      "consistency index is 0.033580743081884634\n",
      "consistency ratio is 0.03731193675764959\n",
      "The weights are consistent\n"
     ]
    }
   ],
   "source": [
    "RI = {1:0, 2:0, 3:0.58, 4:0.9, 5:1.12, 6:1.24, 7:1.32, 8:1.41, 9:1.45, 10:1.49}\n",
    "\n",
    "lambda_arr = np.sum((pair_mat_arr * criteria), axis=1)/criteria\n",
    "lambda_max = np.sum(lambda_arr, axis=0) / criteria.shape[0]\n",
    "print(f'lambda_max is {lambda_max}')\n",
    "consis_in = (lambda_max - criteria.shape[0]) / (criteria.shape[0] - 1)\n",
    "print(f'consistency index is {consis_in}')\n",
    "consis_ratio = consis_in / RI[criteria.shape[0]]\n",
    "print(f'consistency ratio is {consis_ratio}')\n",
    "if consis_ratio < 0.1:\n",
    "    print('The weights are consistent')\n",
    "else:\n",
    "    print('The weights are not consistent')\n",
    "    "
   ]
  },
  {
   "cell_type": "markdown",
   "metadata": {},
   "source": [
    "Applying criteria weights to options"
   ]
  },
  {
   "cell_type": "code",
   "execution_count": 42,
   "metadata": {},
   "outputs": [],
   "source": [
    "attr_mat = df.to_numpy()\n",
    "criteria_ben_mat = np.empty(shape=(attr_mat.shape[1], ))\n",
    "\n",
    "for i in range(attr_mat.shape[1]):       \n",
    "    criteria_ben_mat[i] = input(f'for criteria {i+1}, If it is beneficial enter 1, if it is not enter 0')\n"
   ]
  },
  {
   "cell_type": "code",
   "execution_count": 43,
   "metadata": {},
   "outputs": [
    {
     "data": {
      "text/plain": [
       "array([[0.4827034 , 0.13639013, 0.13044416, 0.02582575],\n",
       "       [0.60337924, 0.13639013, 0.19566624, 0.04304292],\n",
       "       [0.40225283, 0.06819507, 0.09783312, 0.03228219],\n",
       "       [0.43882127, 0.06819507, 0.19566624, 0.03228219],\n",
       "       [0.53633711, 0.13639013, 0.09783312, 0.06456438]])"
      ]
     },
     "execution_count": 43,
     "metadata": {},
     "output_type": "execute_result"
    }
   ],
   "source": [
    "# normalized weighted matrix calculation\n",
    "norm_weighted_mat = attr_mat.copy().transpose().astype(float)\n",
    "for i in range(criteria_ben_mat.shape[0]):\n",
    "    if criteria[i] == 1:        \n",
    "        max_i = norm_weighted_mat[i].max()     \n",
    "        norm_weighted_mat[i] = np.dot(norm_weighted_mat[i],(1/max_i))\n",
    "        norm_weighted_mat[i] = np.dot(norm_weighted_mat[i],criteria[i])\n",
    "    else:\n",
    "        min_i = norm_weighted_mat[i].min()     \n",
    "        norm_weighted_mat[i] = np.dot((1/norm_weighted_mat[i]),(min_i))\n",
    "        norm_weighted_mat[i] = np.dot(norm_weighted_mat[i],criteria[i])\n",
    "\n",
    "norm_weighted_mat = norm_weighted_mat.transpose()\n",
    "norm_weighted_mat"
   ]
  },
  {
   "cell_type": "code",
   "execution_count": 44,
   "metadata": {},
   "outputs": [
    {
     "name": "stdout",
     "output_type": "stream",
     "text": [
      "[[1.         0.77536344]\n",
      " [2.         0.97847854]\n",
      " [3.         0.60056321]\n",
      " [4.         0.73496477]\n",
      " [5.         0.83512474]]\n"
     ]
    }
   ],
   "source": [
    "# calculate performance score\n",
    "\n",
    "performance_arr = np.sum(norm_weighted_mat, axis=1)\n",
    "rank_arr= np.empty((0))\n",
    "\n",
    "for i in range(performance_arr.shape[0]):\n",
    "    rank_arr = np.append(rank_arr,[(i+1),performance_arr[i]])    \n",
    "rank_arr = rank_arr.reshape(performance_arr.shape[0],2)\n",
    "print(rank_arr)"
   ]
  },
  {
   "cell_type": "code",
   "execution_count": 45,
   "metadata": {},
   "outputs": [
    {
     "name": "stdout",
     "output_type": "stream",
     "text": [
      "[[2.         0.97847854]\n",
      " [5.         0.83512474]\n",
      " [1.         0.77536344]\n",
      " [4.         0.73496477]\n",
      " [3.         0.60056321]]\n"
     ]
    }
   ],
   "source": [
    "# sorted scores\n",
    "sorted_arr = rank_arr[np.flip(rank_arr[:, 1].argsort())]\n",
    "print(sorted_arr)"
   ]
  }
 ],
 "metadata": {
  "kernelspec": {
   "display_name": "Python 3",
   "language": "python",
   "name": "python3"
  },
  "language_info": {
   "codemirror_mode": {
    "name": "ipython",
    "version": 3
   },
   "file_extension": ".py",
   "mimetype": "text/x-python",
   "name": "python",
   "nbconvert_exporter": "python",
   "pygments_lexer": "ipython3",
   "version": "3.12.2"
  }
 },
 "nbformat": 4,
 "nbformat_minor": 2
}
